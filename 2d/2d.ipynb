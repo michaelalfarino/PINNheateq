{
 "cells": [
  {
   "cell_type": "code",
   "execution_count": null,
   "id": "b11c35e3",
   "metadata": {},
   "outputs": [],
   "source": [
    "\"\"\"Backend supported: tensorflow.compat.v1, tensorflow, pytorch\"\"\"\n",
    "import deepxde as dde\n",
    "import numpy as np\n",
    "# from deepxde.backend import tf\n",
    "from IPython.display import HTML\n",
    "import matplotlib.pyplot as plt\n",
    "from matplotlib.animation import FuncAnimation\n",
    "from matplotlib.animation import PillowWriter\n",
    "from matplotlib import cm"
   ]
  },
  {
   "cell_type": "code",
   "execution_count": null,
   "id": "e68dd022",
   "metadata": {},
   "outputs": [],
   "source": [
    "plt.rcParams['animation.ffmpeg_path'] = r'C:\\FFmpeg\\bin\\ffmpeg.exe'\n",
    "# %matplotlib notebook\n",
    "%matplotlib inline\n",
    "dde.config.set_default_float(\"float64\")\n",
    "dde.optimizers.config.set_LBFGS_options(maxiter=15000)"
   ]
  },
  {
   "cell_type": "markdown",
   "id": "0cdb7236",
   "metadata": {},
   "source": [
    "# PINN"
   ]
  },
  {
   "cell_type": "code",
   "execution_count": null,
   "id": "8ebd77b5",
   "metadata": {},
   "outputs": [],
   "source": [
    "def heat_eq_exact_solution(x, y, t):\n",
    "    return np.exp(-(2 * np.pi**2 * a * t)) * np.sin(np.pi * x) * np.sin(np.pi * y)\n",
    "\n",
    "\n",
    "def gen_exact_solution():\n",
    "    # Number of points in each dimension:\n",
    "    x_dim, y_dim, t_dim = (100, 100, 100)\n",
    "\n",
    "    # Bounds of 'x' and 't':\n",
    "    x_min, y_min, t_min = (0, 0, 0.0)\n",
    "    x_max, y_max, t_max = (L, L, maxtime)\n",
    "\n",
    "    # Create tensors:\n",
    "    t = np.linspace(t_min, t_max, num=t_dim).reshape(t_dim, 1)\n",
    "    x = np.linspace(x_min, x_max, num=x_dim).reshape(x_dim, 1)\n",
    "    y = np.linspace(y_min, y_max, num=y_dim).reshape(y_dim, 1)\n",
    "    usol = np.zeros((x_dim, y_dim, t_dim)).reshape(x_dim, y_dim, t_dim)\n",
    "\n",
    "    # Obtain the value of the exact solution for each generated point:\n",
    "    for i in range(x_dim):\n",
    "        for j in range(y_dim):\n",
    "            for k in range(t_dim):\n",
    "                usol[i][j][k] = heat_eq_exact_solution(x[i], y[j], t[k])\n",
    "\n",
    "    # Save solution:\n",
    "    np.savez(\"heat_eq_data\", x=x, y=y, t=t, usol=usol)\n",
    "\n",
    "\n",
    "def gen_testdata():\n",
    "    # Load the data:\n",
    "    data = np.load(\"heat_eq_data.npz\")\n",
    "    # Obtain the values for t, x, and the excat solution:\n",
    "    t, x, y, exact = data[\"t\"], data[\"x\"], data[\"y\"], data[\"usol\"].T\n",
    "    # Process the data and flatten it out (like labels and features):\n",
    "    yy, tt, xx = np.meshgrid(y, t, x)\n",
    "    X = np.vstack((np.ravel(xx), np.ravel(yy), np.ravel(tt))).T\n",
    "    Y = exact.flatten()[:, None]\n",
    "    return X, Y"
   ]
  },
  {
   "cell_type": "code",
   "execution_count": null,
   "id": "4e7173a2",
   "metadata": {},
   "outputs": [],
   "source": [
    "# Problem parameters:\n",
    "a = 0.4  # Thermal diffusivity\n",
    "L = 1  # Length of the interval\n",
    "maxtime = .5"
   ]
  },
  {
   "cell_type": "code",
   "execution_count": null,
   "id": "1f244663",
   "metadata": {},
   "outputs": [],
   "source": [
    "# Generate a dataset with the exact solution (if you dont have one):\n",
    "gen_exact_solution()"
   ]
  },
  {
   "cell_type": "code",
   "execution_count": null,
   "id": "230a6a6d",
   "metadata": {},
   "outputs": [],
   "source": [
    "def pde(x, u):\n",
    "    du_xx = dde.grad.hessian(u, x, i=0, j=0)\n",
    "    du_yy = dde.grad.hessian(u, x, i=1, j=1)\n",
    "    du_t = dde.grad.jacobian(u, x, i=0, j=2)\n",
    "    return (du_t - (a * (du_xx + du_yy)))"
   ]
  },
  {
   "cell_type": "code",
   "execution_count": null,
   "id": "1fb726bd",
   "metadata": {},
   "outputs": [],
   "source": [
    "geom = dde.geometry.Rectangle((0,0), (L,L))\n",
    "timedomain = dde.geometry.TimeDomain(0, maxtime)\n",
    "geomtime = dde.geometry.GeometryXTime(geom, timedomain)"
   ]
  },
  {
   "cell_type": "code",
   "execution_count": null,
   "id": "5a05dcca",
   "metadata": {},
   "outputs": [],
   "source": [
    "# Initial and boundary conditions:\n",
    "bc = dde.icbc.DirichletBC(geomtime, lambda x: 0, lambda _, on_boundary: on_boundary)\n",
    "ic = dde.icbc.IC(\n",
    "    geomtime,\n",
    "    lambda x: np.sin(np.pi * x[:, 0:1])*np.sin(np.pi * x[:, 1:2]),\n",
    "    lambda _, on_initial: on_initial,\n",
    "                    )\n"
   ]
  },
  {
   "cell_type": "code",
   "execution_count": null,
   "id": "d2bedcf1",
   "metadata": {},
   "outputs": [],
   "source": [
    "# Define the PDE problem and configurations of the network:\n",
    "data = dde.data.TimePDE(\n",
    "    geomtime,\n",
    "    pde,\n",
    "    [bc, ic],\n",
    "    num_domain=5000,\n",
    "    num_boundary=200,\n",
    "    num_initial=400,\n",
    "    num_test=5000,\n",
    ")\n",
    "net = dde.nn.FNN([3] + [32] * 4 + [1], \"tanh\", \"Glorot normal\")\n",
    "model = dde.Model(data, net)"
   ]
  },
  {
   "cell_type": "code",
   "execution_count": null,
   "id": "36755245",
   "metadata": {},
   "outputs": [],
   "source": [
    "# Build and train the model:\n",
    "model.compile(\"adam\", lr=1e-3, loss_weights=[1, 1, 1])\n",
    "model.train(iterations=10000)\n",
    "model.compile(\"L-BFGS\", loss_weights=[1, 1, 1])\n",
    "losshistory, train_state = model.train()"
   ]
  },
  {
   "cell_type": "code",
   "execution_count": null,
   "id": "0519ee6f",
   "metadata": {
    "scrolled": false
   },
   "outputs": [],
   "source": [
    "# Plot/print the results\n",
    "dde.saveplot(losshistory, train_state, issave=True, isplot=True)\n",
    "X, y_true = gen_testdata()\n",
    "y_PINN = model.predict(X)\n",
    "print(\"Mean squared error:\", dde.metrics.mean_squared_error(y_true, y_PINN))\n",
    "np.savetxt(\"test.dat\", np.hstack((X, y_true, y_PINN)))"
   ]
  },
  {
   "cell_type": "code",
   "execution_count": null,
   "id": "72336561",
   "metadata": {
    "scrolled": false
   },
   "outputs": [],
   "source": [
    "fig = plt.figure(figsize=(11,11))\n",
    "plt.suptitle(\"Metode PINN\")\n",
    "\n",
    "ax = fig.add_subplot(3, 2, 1, projection='3d')\n",
    "surf = ax.scatter(X[0:10000, 0], X[0:10000, 1], y_PINN[0:10000], c=y_PINN[0:10000], cmap=cm.coolwarm)\n",
    "ax.set_title(\"t = {:.2f}\".format(X[0, 2]))\n",
    "ax.set_zlim(-0.1, 1)\n",
    "ax.set_xlabel('$x$')\n",
    "ax.set_ylabel('$y$')\n",
    "ax.set_zlabel('$Temperatur$')\n",
    "fig.colorbar(surf, shrink=.5, location='left')\n",
    "\n",
    "ax = fig.add_subplot(3, 2, 2, projection='3d')\n",
    "surf = ax.scatter(X[200000:210000, 0], X[200000:210000, 1], y_PINN[200000:210000], c=y_PINN[200000:210000], cmap=cm.coolwarm)\n",
    "ax.set_title(\"t = {:.2f}\".format(X[200000, 2]))\n",
    "ax.set_zlim(-0.1, 1)\n",
    "ax.set_xlabel('$x$')\n",
    "ax.set_ylabel('$y$')\n",
    "ax.set_zlabel('$Temperatur$')\n",
    "fig.colorbar(surf, shrink=.5, location='left')\n",
    "\n",
    "ax = fig.add_subplot(3, 2, 3, projection='3d')\n",
    "surf = ax.scatter(X[400000:410000, 0], X[400000:410000, 1], y_PINN[400000:410000], c=y_PINN[400000:410000], cmap=cm.coolwarm)\n",
    "ax.set_title(\"t = {:.2f}\".format(X[400000, 2]))\n",
    "ax.set_zlim(-0.1, 1)\n",
    "ax.set_xlabel('$x$')\n",
    "ax.set_ylabel('$y$')\n",
    "ax.set_zlabel('$Temperatur$')\n",
    "fig.colorbar(surf, shrink=.5, location='left')\n",
    "\n",
    "ax = fig.add_subplot(3, 2, 4, projection='3d')\n",
    "surf = ax.scatter(X[600000:610000, 0], X[600000:610000, 1], y_PINN[600000:610000], c=y_PINN[600000:610000], cmap=cm.coolwarm)\n",
    "ax.set_title(\"t = {:.2f}\".format(X[600000, 2]))\n",
    "ax.set_zlim(-0.1, 1)\n",
    "ax.set_xlabel('$x$')\n",
    "ax.set_ylabel('$y$')\n",
    "ax.set_zlabel('$Temperatur$')\n",
    "fig.colorbar(surf, shrink=.5, location='left')\n",
    "\n",
    "ax = fig.add_subplot(3, 2, 5, projection='3d')\n",
    "surf = ax.scatter(X[800000:810000, 0], X[800000:810000, 1], y_PINN[800000:810000], c=y_PINN[800000:810000], cmap=cm.coolwarm)\n",
    "ax.set_title(\"t = {:.2f}\".format(X[800000, 2]))\n",
    "ax.set_zlim(-0.1, 1)\n",
    "ax.set_xlabel('$x$')\n",
    "ax.set_ylabel('$y$')\n",
    "ax.set_zlabel('$Temperatur$')\n",
    "fig.colorbar(surf, shrink=.5, location='left')\n",
    "\n",
    "ax = fig.add_subplot(3, 2, 6, projection='3d')\n",
    "surf = ax.scatter(X[990000:1000000, 0], X[990000:1000000, 1], y_PINN[990000:1000000], c=y_PINN[990000:1000000], cmap=cm.coolwarm)\n",
    "ax.set_title(\"t = {:.2f}\".format(X[990000, 2]))\n",
    "ax.set_zlim(-0.1, 1)\n",
    "ax.set_xlabel('$x$')\n",
    "ax.set_ylabel('$y$')\n",
    "ax.set_zlabel('$Temperatur$')\n",
    "fig.colorbar(surf, shrink=.5, location='left')\n",
    "\n",
    "plt.tight_layout()\n",
    "plt.savefig(\"PINN2d.png\", dpi=300)"
   ]
  },
  {
   "cell_type": "markdown",
   "id": "adae2328",
   "metadata": {},
   "source": [
    "# Analytic"
   ]
  },
  {
   "cell_type": "code",
   "execution_count": null,
   "id": "00a6bf99",
   "metadata": {},
   "outputs": [],
   "source": [
    "fig = plt.figure(figsize=(11,11))\n",
    "plt.suptitle(\"Metode Analitik (Separasi Variabel)\")\n",
    "\n",
    "ax = fig.add_subplot(3, 2, 1, projection='3d')\n",
    "surf = ax.scatter(X[0:10000, 0], X[0:10000, 1], y_true[0:10000], c=y_true[0:10000], cmap=cm.coolwarm)\n",
    "ax.set_title(\"t = {:.2f}\".format(X[0, 2]))\n",
    "ax.set_zlim(-0.1, 1)\n",
    "ax.set_xlabel('$x$')\n",
    "ax.set_ylabel('$y$')\n",
    "ax.set_zlabel('$Temperatur$')\n",
    "fig.colorbar(surf, shrink=.5, location='left')\n",
    "\n",
    "ax = fig.add_subplot(3, 2, 2, projection='3d')\n",
    "surf = ax.scatter(X[200000:210000, 0], X[200000:210000, 1], y_true[200000:210000], c=y_true[200000:210000], cmap=cm.coolwarm)\n",
    "ax.set_title(\"t = {:.2f}\".format(X[200000, 2]))\n",
    "ax.set_zlim(-0.1, 1)\n",
    "ax.set_xlabel('$x$')\n",
    "ax.set_ylabel('$y$')\n",
    "ax.set_zlabel('$Temperatur$')\n",
    "fig.colorbar(surf, shrink=.5, location='left')\n",
    "\n",
    "ax = fig.add_subplot(3, 2, 3, projection='3d')\n",
    "surf = ax.scatter(X[400000:410000, 0], X[400000:410000, 1], y_true[400000:410000], c=y_true[400000:410000], cmap=cm.coolwarm)\n",
    "ax.set_title(\"t = {:.2f}\".format(X[400000, 2]))\n",
    "ax.set_zlim(-0.1, 1)\n",
    "ax.set_xlabel('$x$')\n",
    "ax.set_ylabel('$y$')\n",
    "ax.set_zlabel('$Temperatur$')\n",
    "fig.colorbar(surf, shrink=.5, location='left')\n",
    "\n",
    "ax = fig.add_subplot(3, 2, 4, projection='3d')\n",
    "surf = ax.scatter(X[600000:610000, 0], X[600000:610000, 1], y_true[600000:610000], c=y_true[600000:610000], cmap=cm.coolwarm)\n",
    "ax.set_title(\"t = {:.2f}\".format(X[600000, 2]))\n",
    "ax.set_zlim(-0.1, 1)\n",
    "ax.set_xlabel('$x$')\n",
    "ax.set_ylabel('$y$')\n",
    "ax.set_zlabel('$Temperatur$')\n",
    "fig.colorbar(surf, shrink=.5, location='left')\n",
    "\n",
    "ax = fig.add_subplot(3, 2, 5, projection='3d')\n",
    "surf = ax.scatter(X[800000:810000, 0], X[800000:810000, 1], y_true[800000:810000], c=y_true[800000:810000], cmap=cm.coolwarm)\n",
    "ax.set_title(\"t = {:.2f}\".format(X[800000, 2]))\n",
    "ax.set_zlim(-0.1, 1)\n",
    "ax.set_xlabel('$x$')\n",
    "ax.set_ylabel('$y$')\n",
    "ax.set_zlabel('$Temperatur$')\n",
    "fig.colorbar(surf, shrink=.5, location='left')\n",
    "\n",
    "ax = fig.add_subplot(3, 2, 6, projection='3d')\n",
    "surf = ax.scatter(X[990000:1000000, 0], X[990000:1000000, 1], y_true[990000:1000000], c=y_true[990000:1000000], cmap=cm.coolwarm)\n",
    "ax.set_title(\"t = {:.2f}\".format(X[990000, 2]))\n",
    "ax.set_zlim(-0.1, 1)\n",
    "ax.set_xlabel('$x$')\n",
    "ax.set_ylabel('$y$')\n",
    "ax.set_zlabel('$Temperatur$')\n",
    "fig.colorbar(surf, shrink=.5, location='left')\n",
    "\n",
    "plt.tight_layout()\n",
    "plt.savefig(\"analytic2d.png\", dpi=300)"
   ]
  },
  {
   "cell_type": "markdown",
   "id": "d6737e7e",
   "metadata": {},
   "source": [
    "# Numeric FTCS"
   ]
  },
  {
   "cell_type": "code",
   "execution_count": null,
   "id": "03bdb600",
   "metadata": {},
   "outputs": [],
   "source": [
    "import time\n",
    "start = time.time()\n",
    "# nt = np.where(np.isclose(X[:, 1], 0) & np.isclose(X[:, 0] , 0))[0].shape[0]\n",
    "# dt = maxtime/nt\n",
    "dx = 0.02\n",
    "dy = dx\n",
    "dt = dx**2 / (4*a)"
   ]
  },
  {
   "cell_type": "code",
   "execution_count": null,
   "id": "c7c26fc0",
   "metadata": {},
   "outputs": [],
   "source": [
    "dt"
   ]
  },
  {
   "cell_type": "code",
   "execution_count": null,
   "id": "92afcf73",
   "metadata": {},
   "outputs": [],
   "source": [
    "xs = np.arange(0, L, dx)\n",
    "ys = np.arange(0, L, dy)\n",
    "ts = np.arange(0, maxtime, dt)\n",
    "u = np.empty((len(xs), len(ys)))\n",
    "for i in range(len(xs)):\n",
    "    for j in range(len(ys)):\n",
    "        u[i, j] = np.sin(np.pi*xs[i]) * np.sin(np.pi*ys[j]) #initial condition"
   ]
  },
  {
   "cell_type": "code",
   "execution_count": null,
   "id": "d2802269",
   "metadata": {},
   "outputs": [],
   "source": [
    "len(xs)*len(ys)*len(ts)"
   ]
  },
  {
   "cell_type": "code",
   "execution_count": null,
   "id": "a5dab43e",
   "metadata": {},
   "outputs": [],
   "source": [
    "u[0, :] = 0\n",
    "u[-1, :] = 0\n",
    "u[:, 0] = 0\n",
    "u[:, -1] = 0   #boundary condition\n",
    "\n",
    "XS, YS = np.meshgrid(xs, ys)\n",
    "y_num = np.empty(4)\n",
    "\n",
    "for n in ts: \n",
    "    un = u.copy()\n",
    "    u[1:-1, 1:-1] = (un[1:-1,1:-1] + a * dt / dx**2 * \n",
    "                    (un[1:-1, 2:] - 2 * un[1:-1, 1:-1] + un[1:-1, 0:-2]) +\n",
    "                    a * dt / dy**2 * (un[2:,1: -1] - 2 * un[1:-1, 1:-1] + un[0:-2, 1:-1]))\n",
    "    u[0, :] = 0\n",
    "    u[-1, :] = 0\n",
    "    u[:, 0] = 0\n",
    "    u[:, -1] = 0\n",
    "\n",
    "    temp = np.hstack((XS.reshape(-1,1), YS.reshape(-1,1), np.full((len(xs) * len(ys)), n).reshape(-1,1), u.reshape(-1,1)))\n",
    "    y_num = np.vstack((y_num, temp))\n",
    "\n",
    "y_num = np.delete(y_num, 0, 0)\n",
    "\n",
    "end = time.time()"
   ]
  },
  {
   "cell_type": "code",
   "execution_count": null,
   "id": "29c415c8",
   "metadata": {},
   "outputs": [],
   "source": [
    "end-start"
   ]
  },
  {
   "cell_type": "code",
   "execution_count": null,
   "id": "d4f8b0b7",
   "metadata": {},
   "outputs": [],
   "source": [
    "fig = plt.figure(figsize=(11,11))\n",
    "plt.suptitle(\"Metode FTCS\")\n",
    "\n",
    "\n",
    "markersize = [1 for i in range(2500)]\n",
    "ax = fig.add_subplot(3, 2, 1, projection='3d')\n",
    "surf = ax.scatter(y_num[0:2500, 0], y_num[0:2500, 1], y_num[0:2500, 3], s=markersize, c=y_num[0:2500, 3], cmap=cm.coolwarm)\n",
    "ax.set_title(\"t = {:.2f}\".format(y_num[0, 2]))\n",
    "ax.set_zlim(-0.1, 1)\n",
    "ax.set_xlabel('$x$')\n",
    "ax.set_ylabel('$y$')\n",
    "ax.set_zlabel('$Temperatur$')\n",
    "fig.colorbar(surf, shrink=.5, location='left')\n",
    "\n",
    "ax = fig.add_subplot(3, 2, 2, projection='3d')\n",
    "surf = ax.scatter(y_num[1000000:1002500, 0], y_num[1000000:1002500, 1], y_num[1000000:1002500, 3], s=markersize, c=y_num[1000000:1002500, 3], cmap=cm.coolwarm)\n",
    "ax.set_title(\"t = {:.2f}\".format(y_num[1000000, 2]))\n",
    "ax.set_zlim(-0.1, 1)\n",
    "ax.set_xlabel('$x$')\n",
    "ax.set_ylabel('$y$')\n",
    "ax.set_zlabel('$Temperatur$')\n",
    "fig.colorbar(surf, shrink=.5, location='left')\n",
    "\n",
    "ax = fig.add_subplot(3, 2, 3, projection='3d')\n",
    "surf = ax.scatter(y_num[2000000:2002500, 0], y_num[2000000:2002500, 1], y_num[2000000:2002500, 3], s=markersize, c=y_num[2000000:2002500, 3], cmap=cm.coolwarm)\n",
    "ax.set_title(\"t = {:.2f}\".format(y_num[2000000, 2]))\n",
    "ax.set_zlim(-0.1, 1)\n",
    "ax.set_xlabel('$x$')\n",
    "ax.set_ylabel('$y$')\n",
    "ax.set_zlabel('$Temperatur$')\n",
    "fig.colorbar(surf, shrink=.5, location='left')\n",
    "\n",
    "ax = fig.add_subplot(3, 2, 4, projection='3d')\n",
    "surf = ax.scatter(y_num[3000000:3002500, 0], y_num[3000000:3002500, 1], y_num[3000000:3002500, 3], s=markersize, c=y_num[3000000:3002500, 3], cmap=cm.coolwarm)\n",
    "ax.set_title(\"t = {:.2f}\".format(y_num[3000000, 2]))\n",
    "ax.set_zlim(-0.1, 1)\n",
    "ax.set_xlabel('$x$')\n",
    "ax.set_ylabel('$y$')\n",
    "ax.set_zlabel('$Temperatur$')\n",
    "fig.colorbar(surf, shrink=.5, location='left')\n",
    "\n",
    "ax = fig.add_subplot(3, 2, 5, projection='3d')\n",
    "surf = ax.scatter(y_num[4000000:4002500, 0], y_num[4000000:4002500, 1], y_num[4000000:4002500, 3], s=markersize, c=y_num[4000000:4002500, 3], cmap=cm.coolwarm)\n",
    "ax.set_title(\"t = {:.2f}\".format(y_num[4000000, 2]))\n",
    "ax.set_zlim(-0.1, 1)\n",
    "ax.set_xlabel('$x$')\n",
    "ax.set_ylabel('$y$')\n",
    "ax.set_zlabel('$Temperatur$')\n",
    "fig.colorbar(surf, shrink=.5, location='left')\n",
    "\n",
    "ax = fig.add_subplot(3, 2, 6, projection='3d')\n",
    "surf = ax.scatter(y_num[4997500:5000000, 0], y_num[4997500:5000000, 1], y_num[4997500:5000000, 3], s=markersize, c=y_num[4997500:5000000, 3], cmap=cm.coolwarm)\n",
    "ax.set_title(\"t = {:.2f}\".format(y_num[4997500, 2]))\n",
    "ax.set_zlim(-0.1, 1)\n",
    "ax.set_xlabel('$x$')\n",
    "ax.set_ylabel('$y$')\n",
    "ax.set_zlabel('$Temperatur$')\n",
    "fig.colorbar(surf, shrink=.5, location='left')\n",
    "\n",
    "plt.tight_layout()\n",
    "plt.savefig(\"FTCS2d.png\", dpi=300)"
   ]
  },
  {
   "cell_type": "code",
   "execution_count": null,
   "id": "4b05ffdc",
   "metadata": {},
   "outputs": [],
   "source": [
    "y_num[:, 3].max()"
   ]
  },
  {
   "cell_type": "code",
   "execution_count": null,
   "id": "b59e34bf",
   "metadata": {},
   "outputs": [],
   "source": [
    "y_PINN.max()"
   ]
  },
  {
   "cell_type": "code",
   "execution_count": null,
   "id": "0b5dfafb",
   "metadata": {},
   "outputs": [],
   "source": [
    "dde.metrics.mean_squared_error((heat_eq_exact_solution(y_num[:, 0], y_num[:, 1], y_num[:, 2])), y_num[:, 3])"
   ]
  },
  {
   "cell_type": "markdown",
   "id": "79584f08",
   "metadata": {},
   "source": [
    "# Animation"
   ]
  },
  {
   "cell_type": "code",
   "execution_count": null,
   "id": "ae1b76a5",
   "metadata": {},
   "outputs": [],
   "source": [
    "result = np.hstack((X, y_true, y_PINN))\n",
    "time = np.unique(result[:, 2])\n",
    "time2 = np.unique(y_num[:, 2])"
   ]
  },
  {
   "cell_type": "code",
   "execution_count": null,
   "id": "9b3dd7dc",
   "metadata": {},
   "outputs": [],
   "source": [
    "fig = plt.figure(figsize=(7,5))\n",
    "ax = fig.add_subplot(1, 1, 1, projection='3d')\n",
    "\n",
    "def update(frame):\n",
    "    ax.clear()\n",
    "    ax.set_title(\" \")\n",
    "    ax.set_zlim([-.1, 1.1])\n",
    "    ax.set_zlabel(\"Temperatur\")\n",
    "    ax.set_ylabel(\"y\")\n",
    "    ax.set_xlabel(\"x\")\n",
    "    ax.grid()\n",
    "#     a = np.where(result[:, 2] == time[frame])[0][0]\n",
    "#     b = np.where(result[:, 2] == time[frame])[0][-1]\n",
    "    a = np.where(y_num[:, 2] == time2[frame])[0][0]\n",
    "    b = np.where(y_num[:, 2] == time2[frame])[0][-1]\n",
    "#     surface = ax.scatter(result[a:b, 0], result[a:b, 1], result[a:b, 3], c=result[a:b, 3], cmap=cm.coolwarm)\n",
    "    surface = ax.scatter(y_num[a:b, 0], y_num[a:b, 1], y_num[a:b, 3], c=y_num[a:b, 3], cmap=cm.coolwarm)\n",
    "    ax.set_title(\"Persebaran panas FTCS t = {:.2f}\".format(y_num[a, 2]))\n",
    "\n",
    "ani = FuncAnimation(fig, update, frames=int(len(time2)))"
   ]
  },
  {
   "cell_type": "code",
   "execution_count": null,
   "id": "c4cb0e8e",
   "metadata": {},
   "outputs": [],
   "source": [
    "# Save the animation as an animated GIF\n",
    "ani.save(\"heat eq 2d FTCS.mp4\", bitrate=6000, dpi=200, fps=200)"
   ]
  },
  {
   "cell_type": "code",
   "execution_count": null,
   "id": "f0df07c4",
   "metadata": {},
   "outputs": [],
   "source": [
    "loss_train = np.sum(losshistory.loss_train, axis=1)\n",
    "loss_test = np.sum(losshistory.loss_test, axis=1)\n",
    "\n",
    "plt.figure(figsize=(6,4))\n",
    "plt.grid()\n",
    "plt.title(\"Perkembangan $loss$ $function$ tiap iterasi\")\n",
    "plt.semilogy(losshistory.steps, loss_train, label=\"Train loss\")\n",
    "plt.semilogy(losshistory.steps, loss_test, label=\"Test loss\")\n",
    "for i in range(len(losshistory.metrics_test[0])):\n",
    "    plt.semilogy(\n",
    "        loss_history.steps,\n",
    "        np.array(loss_history.metrics_test)[:, i],\n",
    "        label=\"Test metric\",\n",
    "    )\n",
    "plt.xlabel(\"Banyak iterasi\")\n",
    "plt.ylabel(\"$\\mathcal{L}$\")\n",
    "plt.legend()\n",
    "plt.savefig('loss.png', dpi=300)"
   ]
  },
  {
   "cell_type": "markdown",
   "id": "66173c0d",
   "metadata": {},
   "source": [
    "idx1 = np.where((X[:, 0] >= 0.6) & (X[:, 0] <= 0.607) & (np.isclose(X[:, 0], X[:, 1])))[0]"
   ]
  },
  {
   "cell_type": "markdown",
   "id": "1cd011b8",
   "metadata": {},
   "source": [
    "result = X[idx1]\n",
    "result.shape"
   ]
  },
  {
   "cell_type": "markdown",
   "id": "8f56addd",
   "metadata": {},
   "source": [
    "idx2 = np.where((X[:, 0] >= 0.79) & (X[:, 0] <= 0.8) & (np.isclose(X[:, 0], X[:, 1])))[0]"
   ]
  },
  {
   "cell_type": "markdown",
   "id": "85e85e89",
   "metadata": {},
   "source": [
    "result2 = X[idx2]\n",
    "result2.shape"
   ]
  },
  {
   "cell_type": "markdown",
   "id": "a67de12c",
   "metadata": {},
   "source": [
    "fig = plt.figure()\n",
    "\n",
    "ax = fig.add_subplot(1, 2, 1)\n",
    "ax.plot(result[:, 2], y_true[idx1], label=\"Analytic\")\n",
    "ax.scatter(result[:, 2], y_PINN[idx1], label=\"PINN\")\n",
    "\n",
    "ax = fig.add_subplot(1, 2, 2)\n",
    "ax.plot(result2[:, 2], y_true[idx2], label=\"Analytic\")\n",
    "ax.scatter(result2[:, 2], y_PINN[idx2], label=\"PINN\")\n",
    "\n",
    "# plt.ylim((0,1))\n",
    "plt.tight_layout()\n",
    "plt.legend()\n",
    "plt.show()"
   ]
  },
  {
   "cell_type": "markdown",
   "id": "792554c3",
   "metadata": {
    "scrolled": true
   },
   "source": [
    "y_PINN[idx2].shape"
   ]
  }
 ],
 "metadata": {
  "kernelspec": {
   "display_name": "Python 3 (ipykernel)",
   "language": "python",
   "name": "python3"
  },
  "language_info": {
   "codemirror_mode": {
    "name": "ipython",
    "version": 3
   },
   "file_extension": ".py",
   "mimetype": "text/x-python",
   "name": "python",
   "nbconvert_exporter": "python",
   "pygments_lexer": "ipython3",
   "version": "3.10.5"
  }
 },
 "nbformat": 4,
 "nbformat_minor": 5
}
