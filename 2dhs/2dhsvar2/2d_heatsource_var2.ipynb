{
 "cells": [
  {
   "cell_type": "code",
   "execution_count": null,
   "id": "b11c35e3",
   "metadata": {
    "colab": {
     "base_uri": "https://localhost:8080/"
    },
    "id": "b11c35e3",
    "outputId": "4a399646-5f3e-4b32-b2d8-53dda565eb58"
   },
   "outputs": [],
   "source": [
    "\"\"\"Backend supported: tensorflow.compat.v1, tensorflow, pytorch\"\"\"\n",
    "import deepxde as dde\n",
    "import numpy as np\n",
    "from deepxde.backend import tf\n",
    "from IPython.display import HTML\n",
    "import matplotlib.pyplot as plt\n",
    "from matplotlib.animation import FuncAnimation\n",
    "from matplotlib.animation import PillowWriter\n",
    "from matplotlib import cm"
   ]
  },
  {
   "cell_type": "code",
   "execution_count": null,
   "id": "e68dd022",
   "metadata": {
    "colab": {
     "base_uri": "https://localhost:8080/"
    },
    "id": "e68dd022",
    "outputId": "900768b1-ed69-49c4-b3c2-1dfd7d73ed2a"
   },
   "outputs": [],
   "source": [
    "plt.rcParams['animation.ffmpeg_path'] = r'C:\\FFmpeg\\bin\\ffmpeg.exe'\n",
    "# %matplotlib notebook\n",
    "%matplotlib inline\n",
    "dde.config.set_default_float(\"float64\")\n",
    "dde.optimizers.config.set_LBFGS_options(maxiter=15000)"
   ]
  },
  {
   "cell_type": "markdown",
   "id": "0cdb7236",
   "metadata": {
    "id": "0cdb7236"
   },
   "source": [
    "# PINN"
   ]
  },
  {
   "cell_type": "code",
   "execution_count": null,
   "id": "8ebd77b5",
   "metadata": {
    "id": "8ebd77b5"
   },
   "outputs": [],
   "source": [
    "def gen_exact_solution():\n",
    "    # Number of points in each dimension:\n",
    "    x_dim, y_dim, t_dim = (50, 50, 1000)\n",
    "\n",
    "    # Bounds of 'x' and 't':\n",
    "    x_min, y_min, t_min = (0, 0, 0.0)\n",
    "    x_max, y_max, t_max = (L, L, maxtime)\n",
    "\n",
    "    # Create tensors:\n",
    "    t = np.linspace(t_min, t_max, num=t_dim).reshape(t_dim, 1)\n",
    "    x = np.linspace(x_min, x_max, num=x_dim).reshape(x_dim, 1)\n",
    "    y = np.linspace(y_min, y_max, num=y_dim).reshape(y_dim, 1)\n",
    "\n",
    "    # Save solution:\n",
    "    np.savez(\"heat_eq_data\", x=x, y=y, t=t)\n",
    "\n",
    "\n",
    "def gen_testdata():\n",
    "    # Load the data:\n",
    "    data = np.load(\"heat_eq_data.npz\")\n",
    "    # Obtain the values for t, x, and the excat solution:\n",
    "    t, x, y = data[\"t\"], data[\"x\"], data[\"y\"]\n",
    "    # Process the data and flatten it out (like labels and features):\n",
    "    yy, tt, xx = np.meshgrid(y, t, x)\n",
    "    X = np.vstack((np.ravel(xx), np.ravel(yy), np.ravel(tt))).T\n",
    "    return X"
   ]
  },
  {
   "cell_type": "code",
   "execution_count": null,
   "id": "4e7173a2",
   "metadata": {
    "id": "4e7173a2"
   },
   "outputs": [],
   "source": [
    "# Problem parameters:\n",
    "a = 2.225e-5  # Thermal diffusivity\n",
    "L = 1  # Length of the interval\n",
    "maxtime = 10000\n",
    "var = .05\n",
    "mean = .25"
   ]
  },
  {
   "cell_type": "code",
   "execution_count": null,
   "id": "1f244663",
   "metadata": {
    "id": "1f244663"
   },
   "outputs": [],
   "source": [
    "# Generate a dataset with the exact solution (if you dont have one):\n",
    "gen_exact_solution()"
   ]
  },
  {
   "cell_type": "code",
   "execution_count": null,
   "id": "230a6a6d",
   "metadata": {
    "id": "230a6a6d"
   },
   "outputs": [],
   "source": [
    "def pde(x, u):\n",
    "    du_xx = dde.grad.hessian(u, x, i=0, j=0)\n",
    "    du_yy = dde.grad.hessian(u, x, i=1, j=1)\n",
    "    du_t = dde.grad.jacobian(u, x, i=0, j=2)\n",
    "    K = 0.00085*1000/63.65\n",
    "    S = K / (var*var*(2*np.pi)) * tf.exp(-0.5*(((x[:, 0:1]-mean)/var)**2 + ((x[:, 1:2]-mean)/var)**2))\n",
    "    return du_t - (a * (du_xx + du_yy)) - S"
   ]
  },
  {
   "cell_type": "code",
   "execution_count": null,
   "id": "1fb726bd",
   "metadata": {
    "id": "1fb726bd"
   },
   "outputs": [],
   "source": [
    "geom = dde.geometry.Rectangle((0,0), (L,L))\n",
    "timedomain = dde.geometry.TimeDomain(0, maxtime)\n",
    "geomtime = dde.geometry.GeometryXTime(geom, timedomain)"
   ]
  },
  {
   "cell_type": "code",
   "execution_count": null,
   "id": "5a05dcca",
   "metadata": {
    "id": "5a05dcca"
   },
   "outputs": [],
   "source": [
    "# Initial and boundary conditions:\n",
    "bc = dde.icbc.DirichletBC(geomtime, lambda x: 25, lambda _, on_boundary: on_boundary)\n",
    "ic = dde.icbc.IC(\n",
    "    geomtime,\n",
    "    lambda x: 25,\n",
    "    lambda _, on_initial: on_initial,\n",
    "                    )\n"
   ]
  },
  {
   "cell_type": "code",
   "execution_count": null,
   "id": "d2bedcf1",
   "metadata": {
    "id": "d2bedcf1"
   },
   "outputs": [],
   "source": [
    "# Define the PDE problem and configurations of the network:\n",
    "data = dde.data.TimePDE(\n",
    "    geomtime,\n",
    "    pde,\n",
    "    [bc, ic],\n",
    "    num_domain=5000,\n",
    "    num_boundary=400,\n",
    "    num_initial=200,\n",
    "    num_test=5000,\n",
    ")\n",
    "net = dde.nn.FNN([3] + [32] * 4 + [1], \"tanh\", \"Glorot normal\")\n",
    "model = dde.Model(data, net)"
   ]
  },
  {
   "cell_type": "code",
   "execution_count": null,
   "id": "G80_jD1E9yiB",
   "metadata": {
    "id": "G80_jD1E9yiB"
   },
   "outputs": [],
   "source": [
    "def feature_transform(X):\n",
    "  return tf.concat([tf.reshape(X[:, 0:1], (-1,1)), tf.reshape(X[:, 1:2], (-1,1)), tf.reshape(X[:, 2:], (-1,1))*1e-3], axis=1)\n",
    "\n",
    "net.apply_feature_transform(feature_transform)\n",
    "net.apply_output_transform(lambda x, y: y*100)"
   ]
  },
  {
   "cell_type": "code",
   "execution_count": null,
   "id": "36755245",
   "metadata": {
    "colab": {
     "base_uri": "https://localhost:8080/"
    },
    "id": "36755245",
    "outputId": "a4b8dcf5-647e-4dad-a9cd-690ed0f1cc70",
    "scrolled": false
   },
   "outputs": [],
   "source": [
    "# Build and train the model:\n",
    "model.compile(\"adam\", lr=1e-3, loss_weights=[1e3,1e-2,1e-2])\n",
    "model.train(iterations=10000)\n",
    "model.compile(\"L-BFGS-B\", loss_weights=[1e3,1e-2,1e-2])\n",
    "losshistory, train_state = model.train()"
   ]
  },
  {
   "cell_type": "code",
   "execution_count": null,
   "id": "0519ee6f",
   "metadata": {
    "colab": {
     "base_uri": "https://localhost:8080/",
     "height": 331
    },
    "id": "0519ee6f",
    "outputId": "44e2d633-3ced-4f72-fd05-a13b75be80cd",
    "scrolled": false
   },
   "outputs": [],
   "source": [
    "# Plot/print the results\n",
    "dde.saveplot(losshistory, train_state, issave=True, isplot=True)\n",
    "X = gen_testdata()\n",
    "y_PINN = model.predict(X)\n",
    "np.savetxt(\"test.dat\", np.hstack((X, y_PINN)))"
   ]
  },
  {
   "cell_type": "code",
   "execution_count": null,
   "id": "72336561",
   "metadata": {
    "colab": {
     "base_uri": "https://localhost:8080/",
     "height": 823
    },
    "id": "72336561",
    "outputId": "57ca1e97-f15f-4603-962d-e26f6425c097",
    "scrolled": false
   },
   "outputs": [],
   "source": [
    "fig = plt.figure(figsize=(11,11))\n",
    "plt.suptitle(\"Metode PINN\")\n",
    "\n",
    "ax = fig.add_subplot(3, 2, 1, projection='3d')\n",
    "surf = ax.scatter(X[2500:5000, 0], X[2500:5000, 1], y_PINN[2500:5000], c=y_PINN[2500:5000], cmap=cm.coolwarm)\n",
    "ax.set_title(\"t = {:.0f}\".format(X[0, 2]))\n",
    "ax.set_zlim(20, 250)\n",
    "# ax.set_zlim(-0.1, 1)\n",
    "ax.set_xlabel('$x$')\n",
    "ax.set_ylabel('$y$')\n",
    "ax.set_zlabel('$Temperatur$')\n",
    "fig.colorbar(surf, shrink=.5, location='left')\n",
    "\n",
    "ax = fig.add_subplot(3, 2, 2, projection='3d')\n",
    "surf = ax.scatter(X[10000:12500, 0], X[10000:12500, 1], y_PINN[10000:12500], c=y_PINN[10000:12500], cmap=cm.coolwarm)\n",
    "ax.set_title(\"t = {:.0f}\".format(X[10000, 2]))\n",
    "ax.set_zlim(20, 250)\n",
    "# ax.set_zlim(-0.1, 1)\n",
    "ax.set_xlabel('$x$')\n",
    "ax.set_ylabel('$y$')\n",
    "ax.set_zlabel('$Temperatur$')\n",
    "fig.colorbar(surf, shrink=.5, location='left')\n",
    "\n",
    "ax = fig.add_subplot(3, 2, 3, projection='3d')\n",
    "surf = ax.scatter(X[100000:102500, 0], X[100000:102500, 1], y_PINN[100000:102500], c=y_PINN[100000:102500], cmap=cm.coolwarm)\n",
    "ax.set_title(\" \\n \\nt = {:.0f}\".format(X[100000, 2]))\n",
    "ax.set_zlim(20, 250)\n",
    "# ax.set_zlim(-0.1, 1)\n",
    "ax.set_xlabel('$x$')\n",
    "ax.set_ylabel('$y$')\n",
    "ax.set_zlabel('$Temperatur$')\n",
    "fig.colorbar(surf, shrink=.5, location='left')\n",
    "\n",
    "ax = fig.add_subplot(3, 2, 4, projection='3d')\n",
    "surf = ax.scatter(X[500000:502500, 0], X[500000:502500, 1], y_PINN[500000:502500], c=y_PINN[500000:502500], cmap=cm.coolwarm)\n",
    "ax.set_title(\" \\n \\nt = 2000\")#{:.0f}\".format(X[500000, 2]))\n",
    "ax.set_zlim(20, 250)\n",
    "# ax.set_zlim(-0.1, 1)\n",
    "ax.set_xlabel('$x$')\n",
    "ax.set_ylabel('$y$')\n",
    "ax.set_zlabel('$Temperatur$')\n",
    "fig.colorbar(surf, shrink=.5, location='left')\n",
    "\n",
    "ax = fig.add_subplot(3, 2, 5, projection='3d')\n",
    "surf = ax.scatter(X[1497500:1500000, 0], X[1497500:1500000, 1], y_PINN[1497500:1500000], c=y_PINN[1497500:1500000], cmap=cm.coolwarm)\n",
    "ax.set_title(\" \\n \\nt = 6000\")#{:.0f}\".format(X[1497500, 2]))\n",
    "ax.set_zlim(20, 250)\n",
    "# ax.set_zlim(-0.1, 1)\n",
    "ax.set_xlabel('$x$')\n",
    "ax.set_ylabel('$y$')\n",
    "ax.set_zlabel('$Temperatur$')\n",
    "fig.colorbar(surf, shrink=.5, location='left')\n",
    "\n",
    "ax = fig.add_subplot(3, 2, 6, projection='3d')\n",
    "surf = ax.scatter(X[2497500:2500000, 0], X[2497500:2500000, 1], y_PINN[2497500:2500000], c=y_PINN[2497500:2500000], cmap=cm.coolwarm)\n",
    "ax.set_title(\" \\n \\nt = {:.0f}\".format(X[2497500, 2]))\n",
    "ax.set_zlim(20, 250)\n",
    "# ax.set_zlim(-0.1, 1)\n",
    "ax.set_xlabel('$x$')\n",
    "ax.set_ylabel('$y$')\n",
    "ax.set_zlabel('$Temperatur$')\n",
    "fig.colorbar(surf, shrink=.5, location='left')\n",
    "\n",
    "plt.tight_layout()\n",
    "plt.savefig(\"PINN2dhsvar2.png\", dpi=300)"
   ]
  },
  {
   "cell_type": "code",
   "execution_count": null,
   "id": "0710e675",
   "metadata": {
    "id": "0710e675"
   },
   "outputs": [],
   "source": [
    "idx1 = np.where(np.isclose(X[:, 0], 1) & (np.isclose(X[:, 0], X[:, 1])))[0]\n",
    "idx2 = np.where((X[:, 0] >= 0.84) & (X[:, 0] <= 0.86) & (np.isclose(X[:, 0], X[:, 1])))[0]\n",
    "idx3 = np.where((X[:, 0] >= 0.68) & (X[:, 0] <= 0.7) & (np.isclose(X[:, 0], X[:, 1])))[0]\n",
    "idx4 = np.where((X[:, 0] >= 0.54) & (X[:, 0] <= 0.56) & (np.isclose(X[:, 0], X[:, 1])))[0]\n",
    "idx5 = np.where((X[:, 0] >= 0.38) & (X[:, 0] <= 0.4) & (np.isclose(X[:, 0], X[:, 1])))[0]\n",
    "idx6 = np.where((X[:, 0] >= 0.24) & (X[:, 0] <= 0.26) & (np.isclose(X[:, 0], X[:, 1])))[0]"
   ]
  },
  {
   "cell_type": "code",
   "execution_count": null,
   "id": "07ca82f7",
   "metadata": {
    "id": "07ca82f7"
   },
   "outputs": [],
   "source": [
    "result1 = X[idx1]\n",
    "result2 = X[idx2]\n",
    "result3 = X[idx3]\n",
    "result4 = X[idx4]\n",
    "result5 = X[idx5]\n",
    "result6 = X[idx6]"
   ]
  },
  {
   "cell_type": "code",
   "execution_count": null,
   "id": "c876e73e",
   "metadata": {
    "colab": {
     "base_uri": "https://localhost:8080/",
     "height": 531
    },
    "id": "c876e73e",
    "outputId": "61fb4f68-48d7-4fa9-c9da-471e7df1f207"
   },
   "outputs": [],
   "source": [
    "fig = plt.figure(figsize=(10,7))\n",
    "plt.suptitle(\"Perkembangan Temperatur terhadap Waktu pada Beberapa Titik\")\n",
    "\n",
    "ax = fig.add_subplot(2, 3, 1)\n",
    "ax.set_ylabel(\"Temperatur\")\n",
    "ax.set_xlabel(\"t\")\n",
    "ax.plot(result1[:, 2], y_PINN[idx1])\n",
    "plt.title(\"(x, y) = ({:.2f}, {:.2f})\".format(result1[0, 1], result1[0, 1]))\n",
    "plt.ylim((0,100))\n",
    "\n",
    "ax = fig.add_subplot(2, 3, 2)\n",
    "ax.set_ylabel(\"Temperatur\")\n",
    "ax.set_xlabel(\"t\")\n",
    "ax.plot(result2[:, 2], y_PINN[idx2])\n",
    "plt.title(\"(x, y) = ({:.2f}, {:.2f})\".format(result2[0, 1], result2[0, 1]))\n",
    "plt.ylim((0,100))\n",
    "\n",
    "ax = fig.add_subplot(2, 3, 3)\n",
    "ax.set_ylabel(\"Temperatur\")\n",
    "ax.set_xlabel(\"t\")\n",
    "ax.plot(result3[:, 2], y_PINN[idx3])\n",
    "plt.title(\"(x, y) = ({:.2f}, {:.2f})\".format(result3[0, 1], result3[0, 1]))\n",
    "plt.ylim((0,100))\n",
    "\n",
    "ax = fig.add_subplot(2, 3, 4)\n",
    "ax.set_ylabel(\"Temperatur\")\n",
    "ax.set_xlabel(\"t\")\n",
    "ax.plot(result4[:, 2], y_PINN[idx4])\n",
    "plt.title(\"(x, y) = ({:.2f}, {:.2f})\".format(result4[0, 1], result4[0, 1]))\n",
    "plt.ylim((0,100))\n",
    "\n",
    "ax = fig.add_subplot(2, 3, 5)\n",
    "ax.set_ylabel(\"Temperatur\")\n",
    "ax.set_xlabel(\"t\")\n",
    "ax.plot(result5[:, 2], y_PINN[idx5])\n",
    "plt.title(\"(x, y) = ({:.2f}, {:.2f})\".format(result5[0, 1], result5[0, 1]))\n",
    "plt.ylim((0,150))\n",
    "\n",
    "ax = fig.add_subplot(2, 3, 6)\n",
    "ax.set_ylabel(\"Temperatur\")\n",
    "ax.set_xlabel(\"t\")\n",
    "ax.plot(result6[:, 2], y_PINN[idx6])\n",
    "plt.title(\"(x, y) = ({:.2f}, {:.2f})\".format(result6[0, 1], result6[0, 1]))\n",
    "plt.ylim((0,250))\n",
    "\n",
    "plt.tight_layout()\n",
    "plt.savefig(\"PINN2dhstimevar2.png\", dpi=300)"
   ]
  },
  {
   "cell_type": "code",
   "execution_count": null,
   "id": "9559aeb5",
   "metadata": {
    "id": "9559aeb5"
   },
   "outputs": [],
   "source": []
  },
  {
   "cell_type": "markdown",
   "id": "ee0d4541",
   "metadata": {
    "id": "ee0d4541"
   },
   "source": [
    "# Animation"
   ]
  },
  {
   "cell_type": "code",
   "execution_count": null,
   "id": "19f2e425",
   "metadata": {
    "id": "19f2e425"
   },
   "outputs": [],
   "source": [
    "result = np.hstack((X, y_PINN))\n",
    "time = np.unique(result[:, 2])"
   ]
  },
  {
   "cell_type": "code",
   "execution_count": null,
   "id": "aff17732",
   "metadata": {
    "colab": {
     "base_uri": "https://localhost:8080/",
     "height": 325
    },
    "id": "aff17732",
    "outputId": "193d1a31-b9cb-4a24-ca00-033453897904",
    "scrolled": true
   },
   "outputs": [],
   "source": [
    "fig = plt.figure(figsize=(7,5))\n",
    "ax = fig.add_subplot(1, 1, 1, projection='3d')\n",
    "\n",
    "def update(frame):\n",
    "    ax.clear()\n",
    "    ax.set_title(\" \")\n",
    "    ax.set_zlim([20, 150])\n",
    "    ax.set_zlabel(\"Temperatur\")\n",
    "    ax.set_ylabel(\"y\")\n",
    "    ax.set_xlabel(\"x\")\n",
    "    ax.grid()\n",
    "    a = np.where(result[:, 2] == time[frame])[0][0]\n",
    "    b = np.where(result[:, 2] == time[frame])[0][-1]\n",
    "    surface = ax.plot_trisurf(result[a:b, 0], result[a:b, 1], result[a:b, 3], cmap=cm.coolwarm)\n",
    "#     ax.plot(result[a:b, 0], result[a:b, 2], 'r-', linewidth=4, label = 'Analitik', zorder = 0)\n",
    "#     ax.plot(result[a:b, 0], result[a:b, 3], 'k--', linewidth=2, label = 'PINN', zorder = 5)\n",
    "    ax.set_title(\"Persebaran panas t = {:.0f}\".format(result[a, 2]))\n",
    "\n",
    "ani = FuncAnimation(fig, update, frames=int(len(time)))"
   ]
  },
  {
   "cell_type": "code",
   "execution_count": null,
   "id": "97b17fa7",
   "metadata": {
    "id": "97b17fa7"
   },
   "outputs": [],
   "source": [
    "# HTML(ani.to_jshtml(fps=100))"
   ]
  },
  {
   "cell_type": "code",
   "execution_count": null,
   "id": "f3f629b8",
   "metadata": {
    "id": "f3f629b8"
   },
   "outputs": [],
   "source": [
    "# Save the animation as an animated GIF\n",
    "ani.save(\"heat eq 2dhsvar2.mp4\", bitrate=6000, dpi=200, fps=30)"
   ]
  },
  {
   "cell_type": "code",
   "execution_count": null,
   "id": "23e52aec",
   "metadata": {
    "colab": {
     "base_uri": "https://localhost:8080/",
     "height": 297
    },
    "id": "23e52aec",
    "outputId": "8de21a21-4f77-433f-9286-6cf339d298b6"
   },
   "outputs": [],
   "source": [
    "loss_train = np.sum(losshistory.loss_train, axis=1)\n",
    "loss_test = np.sum(losshistory.loss_test, axis=1)\n",
    "\n",
    "plt.figure(figsize=(6,4))\n",
    "plt.grid()\n",
    "plt.title(\"Perkembangan $loss$ $function$ tiap iterasi\")\n",
    "plt.semilogy(losshistory.steps, loss_train, label=\"Train loss\")\n",
    "plt.semilogy(losshistory.steps, loss_test, label=\"Test loss\")\n",
    "for i in range(len(losshistory.metrics_test[0])):\n",
    "    plt.semilogy(\n",
    "        loss_history.steps,\n",
    "        np.array(loss_history.metrics_test)[:, i],\n",
    "        label=\"Test metric\",\n",
    "    )\n",
    "plt.xlabel(\"Banyak iterasi\")\n",
    "plt.ylabel(\"$\\mathcal{L}$\")\n",
    "plt.legend()\n",
    "plt.savefig('loss.png', dpi=300)"
   ]
  },
  {
   "cell_type": "code",
   "execution_count": null,
   "id": "c87c53f6",
   "metadata": {
    "id": "c87c53f6"
   },
   "outputs": [],
   "source": []
  }
 ],
 "metadata": {
  "accelerator": "GPU",
  "colab": {
   "provenance": []
  },
  "gpuClass": "standard",
  "kernelspec": {
   "display_name": "Python 3 (ipykernel)",
   "language": "python",
   "name": "python3"
  },
  "language_info": {
   "codemirror_mode": {
    "name": "ipython",
    "version": 3
   },
   "file_extension": ".py",
   "mimetype": "text/x-python",
   "name": "python",
   "nbconvert_exporter": "python",
   "pygments_lexer": "ipython3",
   "version": "3.10.5"
  }
 },
 "nbformat": 4,
 "nbformat_minor": 5
}
