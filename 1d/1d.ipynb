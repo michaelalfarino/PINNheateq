{
 "cells": [
  {
   "cell_type": "markdown",
   "id": "bc7004b7",
   "metadata": {},
   "source": [
    "# PERSAMAAN PANAS 1 DIMENSI"
   ]
  },
  {
   "cell_type": "code",
   "execution_count": null,
   "id": "b11c35e3",
   "metadata": {},
   "outputs": [],
   "source": [
    "import deepxde as dde\n",
    "from deepxde.backend import tf\n",
    "import numpy as np\n",
    "\n",
    "# library untuk membuat animasi:\n",
    "from IPython.display import HTML\n",
    "import matplotlib.pyplot as plt\n",
    "from matplotlib.animation import FuncAnimation\n",
    "from matplotlib.animation import PillowWriter"
   ]
  },
  {
   "cell_type": "code",
   "execution_count": null,
   "id": "e68dd022",
   "metadata": {},
   "outputs": [],
   "source": [
    "# pengaturan\n",
    "plt.rcParams['animation.ffmpeg_path'] = r'C:\\FFmpeg\\bin\\ffmpeg.exe'\n",
    "%matplotlib inline\n",
    "dde.config.set_default_float(\"float64\")\n",
    "dde.optimizers.config.set_LBFGS_options(maxiter=15000)"
   ]
  },
  {
   "cell_type": "markdown",
   "id": "0cdb7236",
   "metadata": {},
   "source": [
    "# PINN"
   ]
  },
  {
   "cell_type": "code",
   "execution_count": null,
   "id": "8ebd77b5",
   "metadata": {},
   "outputs": [],
   "source": [
    "# solusi analitik persamaan panas 1d\n",
    "def heat_eq_exact_solution(x, t):\n",
    "    return np.exp(-(np.pi**2 * a * t)) * np.sin(np.pi * x)\n",
    "\n",
    "# fungsi untuk menghitung solusi analitik\n",
    "def gen_exact_solution():\n",
    "    # jumlah titik tiap dimensi:\n",
    "    x_dim, t_dim = (1000, 1000)\n",
    "\n",
    "    # batas dari x dan t:\n",
    "    x_min, t_min = (0, 0.0)\n",
    "    x_max, t_max = (L, maxtime)\n",
    "\n",
    "    # titik titik yg akan dicari solusinya:\n",
    "    t = np.linspace(t_min, t_max, num=t_dim).reshape(t_dim, 1)\n",
    "    x = np.linspace(x_min, x_max, num=x_dim).reshape(x_dim, 1)\n",
    "    usol = np.zeros((x_dim, t_dim)).reshape(x_dim, t_dim)\n",
    "\n",
    "    # peroleh solusi tiap titik:\n",
    "    for i in range(x_dim):\n",
    "        for j in range(t_dim):\n",
    "            usol[i][j] = heat_eq_exact_solution(x[i], t[j])\n",
    "\n",
    "    # Save:\n",
    "    np.savez(\"heat_eq_data\", x=x, t=t, usol=usol)\n",
    "\n",
    "# fungsi untuk membaca data analitik\n",
    "def gen_testdata():\n",
    "    # Load data:\n",
    "    data = np.load(\"heat_eq_data.npz\")\n",
    "    t, x, exact = data[\"t\"], data[\"x\"], data[\"usol\"].T\n",
    "    # ratakan data:\n",
    "    xx, tt = np.meshgrid(x, t)\n",
    "    X = np.vstack((np.ravel(xx), np.ravel(tt))).T\n",
    "    y = exact.flatten()[:, None]\n",
    "    return X, y"
   ]
  },
  {
   "cell_type": "code",
   "execution_count": null,
   "id": "4e7173a2",
   "metadata": {},
   "outputs": [],
   "source": [
    "# Problem parameters:\n",
    "a = 0.4  # Thermal diffusivity\n",
    "L = 1  # panjang interval\n",
    "maxtime = 1"
   ]
  },
  {
   "cell_type": "code",
   "execution_count": null,
   "id": "1f244663",
   "metadata": {},
   "outputs": [],
   "source": [
    "# peroleh solusi analitik\n",
    "gen_exact_solution()"
   ]
  },
  {
   "cell_type": "code",
   "execution_count": null,
   "id": "230a6a6d",
   "metadata": {},
   "outputs": [],
   "source": [
    "def pde(x, y):\n",
    "    # persamaan diferensial parsial: persamaan panas 1d\n",
    "    dy_t = dde.grad.jacobian(y, x, i=0, j=1)\n",
    "    dy_xx = dde.grad.hessian(y, x, i=0, j=0)\n",
    "    return dy_t - a * dy_xx"
   ]
  },
  {
   "cell_type": "code",
   "execution_count": null,
   "id": "1fb726bd",
   "metadata": {},
   "outputs": [],
   "source": [
    "geom = dde.geometry.Interval(0, L)\n",
    "timedomain = dde.geometry.TimeDomain(0, maxtime)\n",
    "geomtime = dde.geometry.GeometryXTime(geom, timedomain)"
   ]
  },
  {
   "cell_type": "code",
   "execution_count": null,
   "id": "5a05dcca",
   "metadata": {},
   "outputs": [],
   "source": [
    "# Initial and boundary conditions:\n",
    "bc = dde.icbc.DirichletBC(geomtime, lambda x: 0, lambda _, on_boundary: on_boundary)\n",
    "ic = dde.icbc.IC(\n",
    "    geomtime,\n",
    "    lambda x: np.sin(np.pi * x[:, 0:1]),\n",
    "    lambda _, on_initial: on_initial,\n",
    ")\n"
   ]
  },
  {
   "cell_type": "code",
   "execution_count": null,
   "id": "d2bedcf1",
   "metadata": {},
   "outputs": [],
   "source": [
    "# definisi PDP dan konfigurasi neural network\n",
    "data = dde.data.TimePDE(\n",
    "    geomtime,\n",
    "    pde,\n",
    "    [bc, ic],\n",
    "    num_domain=2540,\n",
    "    num_boundary=80,\n",
    "    num_initial=160,\n",
    "    num_test=2540,\n",
    ")\n",
    "net = dde.nn.FNN([2] + [32] * 4 + [1], \"tanh\", \"Glorot normal\")\n",
    "model = dde.Model(data, net)"
   ]
  },
  {
   "cell_type": "code",
   "execution_count": null,
   "id": "36755245",
   "metadata": {
    "scrolled": true
   },
   "outputs": [],
   "source": [
    "# Bangun dan latih model dengan 2 metode optimasi\n",
    "model.compile(\"adam\", lr=1e-3, loss_weights=[1, 1, 1])\n",
    "model.train(iterations=10000)\n",
    "model.compile(\"L-BFGS\", loss_weights=[1, 1, 1])\n",
    "losshistory, train_state = model.train()"
   ]
  },
  {
   "cell_type": "code",
   "execution_count": null,
   "id": "0519ee6f",
   "metadata": {},
   "outputs": [],
   "source": [
    "# Plot/print hasil\n",
    "dde.saveplot(losshistory, train_state, issave=True, isplot=True)\n",
    "X, y_true = gen_testdata()\n",
    "y_PINN = model.predict(X)\n",
    "print(\"Mean squared error:\", dde.metrics.mean_squared_error(y_true, y_PINN))\n",
    "np.savetxt(\"test.dat\", np.hstack((X, y_true, y_PINN)))"
   ]
  },
  {
   "cell_type": "markdown",
   "id": "ee68c1de",
   "metadata": {},
   "source": [
    "# Numeric FTCS"
   ]
  },
  {
   "cell_type": "code",
   "execution_count": null,
   "id": "0fa3574f",
   "metadata": {},
   "outputs": [],
   "source": [
    "# library untuk menghitung waktu running FTCS\n",
    "import time\n",
    "start = time.time()\n",
    "\n",
    "# deklarasi ukuran diferensial\n",
    "nt = np.isclose(X[:, 0], 0).sum()*10\n",
    "\n",
    "dt = maxtime/nt\n",
    "dx = 0.01"
   ]
  },
  {
   "cell_type": "code",
   "execution_count": null,
   "id": "24698df8",
   "metadata": {},
   "outputs": [],
   "source": [
    "dt"
   ]
  },
  {
   "cell_type": "code",
   "execution_count": null,
   "id": "753a9403",
   "metadata": {},
   "outputs": [],
   "source": [
    "# inisialisasi domain\n",
    "xs = np.arange(0, L, dx)\n",
    "ts = np.arange(0, maxtime, dt)\n",
    "u = np.sin(np.pi*xs)     #initial condition\n",
    "\n",
    "u[0] = 0   #boundary condition\n",
    "u[-1] = 0\n",
    "\n",
    "y_num = np.empty(3)\n",
    "\n",
    "for n in ts:  #iterasi melalui waktu\n",
    "    un = u.copy()\n",
    "    u[1:-1] = un[1:-1] + a * dt / dx**2 * (un[2:] - 2 * un[1:-1] + un[0:-2])\n",
    "    u[0] = 0\n",
    "    u[-1] = 0\n",
    "#     for i in range(1, len(u)-1):\n",
    "#         u[i] = un[i] + a * dt / dx**2 * (un[i+1] - 2 * un[i] + un[i-1])\n",
    "    temp = np.hstack((xs.reshape(-1,1), np.full(len(xs), n).reshape(-1,1), u.reshape(-1,1)))\n",
    "    y_num = np.vstack((y_num, temp))\n",
    "    \n",
    "y_num = np.delete(y_num, 0, 0)\n",
    "end = time.time()"
   ]
  },
  {
   "cell_type": "code",
   "execution_count": null,
   "id": "5d41835d",
   "metadata": {},
   "outputs": [],
   "source": [
    "end-start # total waktu kalkulasi FTCS "
   ]
  },
  {
   "cell_type": "markdown",
   "id": "ee0d4541",
   "metadata": {},
   "source": [
    "# Animation"
   ]
  },
  {
   "cell_type": "code",
   "execution_count": null,
   "id": "69ca78f4",
   "metadata": {},
   "outputs": [],
   "source": [
    "result = np.hstack((X, y_true, y_PINN))\n",
    "time = np.unique(result[:, 1])\n",
    "time2 = np.unique(y_num[:, 1])"
   ]
  },
  {
   "cell_type": "code",
   "execution_count": null,
   "id": "7d9dc2f7",
   "metadata": {},
   "outputs": [],
   "source": [
    "fig, ax = plt.subplots(figsize=(7,5))\n",
    "\n",
    "def update(frame):\n",
    "    ax.clear()\n",
    "    ax.set_title(\" \")\n",
    "    ax.set_ylim([-.1, 1.1])\n",
    "    ax.set_ylabel(\"Temperatur\")\n",
    "    ax.set_xlabel(\"x\")\n",
    "    ax.grid()\n",
    "    a = np.where(result[:, 1] == time[frame])[0][0]\n",
    "    b = np.where(result[:, 1] == time[frame])[0][-1]\n",
    "    c = np.where(np.isclose(y_num[:, 1], time[frame], atol=5e-4))[0][0]\n",
    "    d = np.where(np.isclose(y_num[:, 1], time[frame], atol=5e-4))[0][-1]\n",
    "    ax.plot(result[a:b, 0], result[a:b, 2], 'r-', linewidth=4, label = 'Analitik', zorder = 0)\n",
    "    ax.plot(result[a:b, 0], result[a:b, 3], 'k--', linewidth=2, label = 'PINN', zorder = 5)\n",
    "    ax.scatter(y_num[c:d, 0], y_num[c:d, 2], marker='x', label = 'FTCS', zorder = 10)\n",
    "    ax.set_title(\"Persebaran panas t = {:.2f}\".format(result[a, 1]))\n",
    "    ax.legend()\n",
    "\n",
    "ani = FuncAnimation(fig, update, frames=int(len(time)))"
   ]
  },
  {
   "cell_type": "code",
   "execution_count": null,
   "id": "c3e160b4",
   "metadata": {},
   "outputs": [],
   "source": [
    "# HTML(ani.to_jshtml(60))"
   ]
  },
  {
   "cell_type": "code",
   "execution_count": null,
   "id": "d433d14a",
   "metadata": {},
   "outputs": [],
   "source": [
    "# Save animasi sebagai gif\n",
    "ani.save(\"heat eq 1d nozoom.gif\", dpi=200, fps=30)"
   ]
  },
  {
   "cell_type": "markdown",
   "id": "4cc8223b",
   "metadata": {},
   "source": [
    "# Plot"
   ]
  },
  {
   "cell_type": "code",
   "execution_count": null,
   "id": "776f8400",
   "metadata": {},
   "outputs": [],
   "source": [
    "fig, axs = plt.subplots(3, 2, figsize=(10,13))\n",
    "figTime = 0\n",
    "fig.suptitle(\"Metode Analitik (Separasi Variabel)\")\n",
    "for ax in axs.flat:\n",
    "    ax.grid()\n",
    "    ax.set(xlabel='$x$', ylabel='$u(x, t = {:.2f})$'.format(time[figTime]))\n",
    "    ax.set_ylim([-.1, 1.1])\n",
    "#     ax.set_ylim([.975, 1.])\n",
    "#     ax.set_xlim([0.4, .6])\n",
    "    markersize = [10 for i in range(len(y_num[np.where(np.isclose(y_num[:, 1],time[figTime]))[0][0]:np.where(np.isclose(y_num[:, 1],time[figTime]))[0][-1], 0]))]\n",
    "    ax.plot(result[np.where(result[:, 1] == time[figTime])[0][0]:np.where(result[:, 1] == time[figTime])[0][-1], 0], result[np.where(result[:, 1] == time[figTime])[0][0]:np.where(result[:, 1] == time[figTime])[0][-1], 2], 'r-', linewidth=4, label = 'Analitik', zorder = 0)\n",
    "#     ax.plot(result[np.where(result[:, 1] == time[figTime])[0][0]:np.where(result[:, 1] == time[figTime])[0][-1], 0], result[np.where(result[:, 1] == time[figTime])[0][0]:np.where(result[:, 1] == time[figTime])[0][-1], 3], 'k--', linewidth=2, label = 'PINN', zorder = 5)\n",
    "    ax.scatter(y_num[np.where(np.isclose(y_num[:, 1],time[figTime]))[0][0]:np.where(np.isclose(y_num[:, 1],time[figTime]))[0][-1], 0], y_num[np.where(np.isclose(y_num[:, 1],time[figTime]))[0][0]:np.where(np.isclose(y_num[:, 1],time[figTime]))[0][-1], 2], markersize, marker='x', c='b', label = 'FTCS', zorder = 10)\n",
    "    ax.set_title(\"$t = {:.2f}$\".format(time[figTime]))\n",
    "    figTime += 199\n",
    "\n",
    "axs[0,1].legend()\n",
    "\n",
    "plt.tight_layout()\n",
    "# plt.savefig(\"analytic.png\", dpi=300)"
   ]
  },
  {
   "cell_type": "code",
   "execution_count": null,
   "id": "8cb609f5",
   "metadata": {},
   "outputs": [],
   "source": [
    "# mengukur MSE tiap metode\n",
    "from sklearn.metrics import mean_squared_error as MSE\n",
    "print('\\033[1m' + \"Method         Peak                   MSE\" + '\\033[0m' + \n",
    "      \"\\nAnalytic      \", heat_eq_exact_solution(result[:, 0], result[:, 1]).max(),\n",
    "      \"\\nFTCS          \", y_num[:,2].max(),\"   \", MSE(y_num[:,2], heat_eq_exact_solution(y_num[:,0], y_num[:,1])), \n",
    "      \"\\nPINN          \", result[:, 3].max(),\"   \", MSE(result[:, 3], heat_eq_exact_solution(result[:, 0], result[:, 1]))\n",
    "     )"
   ]
  },
  {
   "cell_type": "code",
   "execution_count": null,
   "id": "9d93c063",
   "metadata": {},
   "outputs": [],
   "source": [
    "# loss history\n",
    "loss_train = np.sum(losshistory.loss_train, axis=1)\n",
    "loss_test = np.sum(losshistory.loss_test, axis=1)\n",
    "\n",
    "plt.figure(figsize=(6,4))\n",
    "plt.grid()\n",
    "plt.title(\"Perkembangan $loss$ $function$ tiap iterasi\")\n",
    "plt.semilogy(losshistory.steps, loss_train, label=\"Train loss\")\n",
    "plt.semilogy(losshistory.steps, loss_test, label=\"Test loss\")\n",
    "for i in range(len(losshistory.metrics_test[0])):\n",
    "    plt.semilogy(\n",
    "        loss_history.steps,\n",
    "        np.array(loss_history.metrics_test)[:, i],\n",
    "        label=\"Test metric\",\n",
    "    )\n",
    "plt.xlabel(\"Banyak iterasi\")\n",
    "plt.ylabel(\"$\\mathcal{L}$\")\n",
    "plt.legend()\n",
    "plt.savefig('loss.png', dpi=300)"
   ]
  },
  {
   "cell_type": "code",
   "execution_count": null,
   "id": "04e164b2",
   "metadata": {},
   "outputs": [],
   "source": []
  },
  {
   "cell_type": "code",
   "execution_count": null,
   "id": "6209d76f",
   "metadata": {},
   "outputs": [],
   "source": []
  }
 ],
 "metadata": {
  "kernelspec": {
   "display_name": "Python 3 (ipykernel)",
   "language": "python",
   "name": "python3"
  },
  "language_info": {
   "codemirror_mode": {
    "name": "ipython",
    "version": 3
   },
   "file_extension": ".py",
   "mimetype": "text/x-python",
   "name": "python",
   "nbconvert_exporter": "python",
   "pygments_lexer": "ipython3",
   "version": "3.10.5"
  }
 },
 "nbformat": 4,
 "nbformat_minor": 5
}
